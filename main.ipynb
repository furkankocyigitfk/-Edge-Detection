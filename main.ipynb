{
 "cells": [
  {
   "cell_type": "code",
   "execution_count": 1,
   "metadata": {},
   "outputs": [],
   "source": [
    "def read_image(fname):\n",
    "    with open(fname, \"rb\") as fp:\n",
    "        lines = fp.readlines()\n",
    "\n",
    "        for l in list(lines):\n",
    "            if l[:1] == b\"#\":\n",
    "                lines.remove(l)\n",
    "\n",
    "        header = lines[0].decode(\"utf-8\").strip()\n",
    "        width, height = [int(i) for i in lines[1].split()]\n",
    "        maxColor = int(lines[2].strip())\n",
    "        arr = list()\n",
    "        \n",
    "        if(header == \"P2\"):\n",
    "            for i in range(3, len(lines)):\n",
    "                for line in lines[i].split():\n",
    "                    arr.append(int(line))\n",
    "        elif(header == \"P5\"):\n",
    "            for i in range(3, len(lines)):\n",
    "                for line in lines[i]:\n",
    "                    arr.append(ord(chr(line)))\n",
    "        img = list()\n",
    "        k = 0\n",
    "        for i in range(height):\n",
    "            row = list()\n",
    "            for j in range(width):\n",
    "                row.append(arr[k])\n",
    "                k += 1\n",
    "            img.append(row)\n",
    "        return img\n"
   ]
  },
  {
   "cell_type": "code",
   "execution_count": 2,
   "metadata": {},
   "outputs": [],
   "source": [
    "def save_pgm(fname, img):\n",
    "    fp = open(fname, \"w\")\n",
    "    fp.write(\"P2\" + \"\\n\")\n",
    "    fp.write(str(len(img[0])) + \" \" + str(len(img)) + \"\\n\")\n",
    "    fp.write(\"255\\n\")\n",
    "\n",
    "    for i in range(len(img)):\n",
    "        count = 0\n",
    "        for j in range(len(img[i])):\n",
    "            fp.write(str(img[i][j]) + \" \")\n",
    "            if (count > 17):\n",
    "                count = 0\n",
    "                fp.write(\"\\n\")\n",
    "            else:\n",
    "                count += 1\n",
    "        fp.write(\"\\n\")\n",
    "    fp.close()\n"
   ]
  },
  {
   "cell_type": "code",
   "execution_count": 3,
   "metadata": {},
   "outputs": [],
   "source": [
    "def normalize(matrix):\n",
    "    result = []\n",
    "    m = min(map(min, matrix))\n",
    "    for row in matrix:\n",
    "        arr = []\n",
    "        for val in row:\n",
    "            arr.append(round(val / m))\n",
    "        result.append(arr)\n",
    "    return result\n"
   ]
  },
  {
   "cell_type": "code",
   "execution_count": 4,
   "metadata": {},
   "outputs": [],
   "source": [
    "def integral(x, y, img, filter, k):\n",
    "    s = 0\n",
    "    for i in range(k):\n",
    "        for j in range(k):\n",
    "            s += img[x - k // 2 + i ][y - k // 2 + j] * filter[i][j]\n",
    "    return s\n"
   ]
  },
  {
   "cell_type": "code",
   "execution_count": 5,
   "metadata": {},
   "outputs": [],
   "source": [
    "def minMaxNormalizaiton(arr):\n",
    "    mi = min(map(min, arr))\n",
    "    ma = max(map(max, arr))\n",
    "\n",
    "    for i in range(len(arr)):\n",
    "        for j in range(len(arr)):\n",
    "            arr[i][j] = int(((arr[i][j] - mi) / (ma - mi)) * 255)\n",
    "    \n",
    "    return arr"
   ]
  },
  {
   "cell_type": "code",
   "execution_count": 6,
   "metadata": {},
   "outputs": [],
   "source": [
    "def convolution(img, filter):\n",
    "    k = len(filter)\n",
    "    arr = [[0 for i in range(len(img[j]))] for j in range(len(img))]\n",
    "\n",
    "    for i in range(k // 2, len(img) - k // 2,):\n",
    "        for j in range(k // 2, len(img[i]) - k // 2):\n",
    "            arr[i][j] = integral(i, j, img, filter, k)\n",
    "    \n",
    "    return arr\n"
   ]
  },
  {
   "cell_type": "code",
   "execution_count": 7,
   "metadata": {},
   "outputs": [],
   "source": [
    "def sobelXY(img_sobelX, img_sobelY):\n",
    "    img_sobelXY = []\n",
    "    for i in range(len(img_sobelX)):\n",
    "        row = []\n",
    "        for j in range(len(img_sobelX[i])):\n",
    "            row.append((img_sobelX[i][j]**2+img_sobelY[i][j]**2)**0.5)\n",
    "        img_sobelXY.append(row)\n",
    "    return minMaxNormalizaiton(img_sobelXY)"
   ]
  },
  {
   "cell_type": "code",
   "execution_count": 28,
   "metadata": {},
   "outputs": [],
   "source": [
    "gaussian_3_3_sigma_2 = [[0.093, 0.119, 0.093],\n",
    "                        [0.119, 0.153, 0.119],\n",
    "                        [0.093, 0.119, 0.093]]\n",
    "gaussian_3_3_sigma_4 = [[0.102, 0.115, 0.102],\n",
    "                        [0.115, 0.131, 0.115],\n",
    "                        [0.102, 0.115, 0.102]]\n",
    "gaussian_5_5_sigma_2 = [[0.012, 0.026, 0.034, 0.026, 0.012],\n",
    "                        [0.026, 0.056, 0.072, 0.056, 0.026],\n",
    "                        [0.034, 0.072, 0.092, 0.072, 0.034],\n",
    "                        [0.026, 0.056, 0.072, 0.056, 0.026],\n",
    "                        [0.012, 0.026, 0.034, 0.026, 0.012]]\n",
    "gaussian_5_5_sigma_4 = [[0.023, 0.034, 0.038, 0.034, 0.023],\n",
    "                        [0.034, 0.049, 0.055, 0.049, 0.034],\n",
    "                        [0.038, 0.056, 0.063, 0.056, 0.038],\n",
    "                        [0.034, 0.049, 0.056, 0.049, 0.034],\n",
    "                        [0.023, 0.034, 0.038, 0.034, 0.023]]\n",
    "gaussian_5_5_sigma_1 = [[0.003, 0.013, 0.022, 0.013, 0.003],\n",
    "                        [0.013, 0.060, 0.098, 0.060, 0.013],\n",
    "                        [0.022, 0.098, 0.162, 0.098, 0.022],\n",
    "                        [0.013, 0.060, 0.098, 0.060, 0.013],\n",
    "                        [0.003, 0.013, 0.022, 0.013, 0.003]]\n",
    "\n",
    "gaussian_3_3_sigma_2_new = normalize(gaussian_3_3_sigma_2)\n",
    "gaussian_3_3_sigma_4_new = normalize(gaussian_3_3_sigma_4)\n",
    "gaussian_5_5_sigma_2_new = normalize(gaussian_5_5_sigma_2)\n",
    "gaussian_5_5_sigma_4_new = normalize(gaussian_5_5_sigma_4)\n",
    "gaussian_5_5_sigma_1_new = normalize(gaussian_5_5_sigma_1)\n",
    "\n",
    "Mx = [[-1, 0, 1],\n",
    "      [-2, 0, 2],\n",
    "      [-1, 0, 1]]\n",
    "My = [[-1, -2, -1],\n",
    "      [0, 0, 0],\n",
    "      [1, 2, 1]]\n",
    "\n",
    "L1 = [[0, -1, 0],\n",
    "      [-1, 4, -1],\n",
    "      [0, -1, 0]]\n",
    "L2 = [[-1, -1, -1],\n",
    "      [-1, 8, -1],\n",
    "      [-1, -1, -1]]\n"
   ]
  },
  {
   "cell_type": "code",
   "execution_count": 9,
   "metadata": {},
   "outputs": [
    {
     "data": {
      "text/plain": [
       "[[1, 1, 1], [1, 2, 1], [1, 1, 1]]"
      ]
     },
     "execution_count": 9,
     "metadata": {},
     "output_type": "execute_result"
    }
   ],
   "source": [
    "gaussian_3_3_sigma_2_new"
   ]
  },
  {
   "cell_type": "code",
   "execution_count": 10,
   "metadata": {},
   "outputs": [
    {
     "data": {
      "text/plain": [
       "[[1, 1, 1], [1, 1, 1], [1, 1, 1]]"
      ]
     },
     "execution_count": 10,
     "metadata": {},
     "output_type": "execute_result"
    }
   ],
   "source": [
    "gaussian_3_3_sigma_4_new"
   ]
  },
  {
   "cell_type": "code",
   "execution_count": 11,
   "metadata": {},
   "outputs": [
    {
     "data": {
      "text/plain": [
       "[[1, 2, 3, 2, 1],\n",
       " [2, 5, 6, 5, 2],\n",
       " [3, 6, 8, 6, 3],\n",
       " [2, 5, 6, 5, 2],\n",
       " [1, 2, 3, 2, 1]]"
      ]
     },
     "execution_count": 11,
     "metadata": {},
     "output_type": "execute_result"
    }
   ],
   "source": [
    "gaussian_5_5_sigma_2_new"
   ]
  },
  {
   "cell_type": "code",
   "execution_count": 12,
   "metadata": {},
   "outputs": [
    {
     "data": {
      "text/plain": [
       "[[1, 1, 2, 1, 1],\n",
       " [1, 2, 2, 2, 1],\n",
       " [2, 2, 3, 2, 2],\n",
       " [1, 2, 2, 2, 1],\n",
       " [1, 1, 2, 1, 1]]"
      ]
     },
     "execution_count": 12,
     "metadata": {},
     "output_type": "execute_result"
    }
   ],
   "source": [
    "gaussian_5_5_sigma_4_new"
   ]
  },
  {
   "cell_type": "code",
   "execution_count": 13,
   "metadata": {},
   "outputs": [
    {
     "data": {
      "text/plain": [
       "[[1, 4, 7, 4, 1],\n",
       " [4, 20, 33, 20, 4],\n",
       " [7, 33, 54, 33, 7],\n",
       " [4, 20, 33, 20, 4],\n",
       " [1, 4, 7, 4, 1]]"
      ]
     },
     "execution_count": 13,
     "metadata": {},
     "output_type": "execute_result"
    }
   ],
   "source": [
    "gaussian_5_5_sigma_1_new"
   ]
  },
  {
   "cell_type": "code",
   "execution_count": 14,
   "metadata": {},
   "outputs": [],
   "source": [
    "img_lena = read_image('./images/lena.pgm')"
   ]
  },
  {
   "cell_type": "code",
   "execution_count": 15,
   "metadata": {},
   "outputs": [],
   "source": [
    "img_coins = read_image('./images/coins.ascii.pgm')"
   ]
  },
  {
   "cell_type": "code",
   "execution_count": 16,
   "metadata": {},
   "outputs": [],
   "source": [
    "img_lena_3_3_2 = minMaxNormalizaiton(convolution(img_lena, gaussian_3_3_sigma_2))\n",
    "img_lena_3_3_4 = minMaxNormalizaiton(convolution(img_lena, gaussian_3_3_sigma_4))\n",
    "img_lena_5_5_2 = minMaxNormalizaiton(convolution(img_lena, gaussian_5_5_sigma_2))\n",
    "img_lena_5_5_4 = minMaxNormalizaiton(convolution(img_lena, gaussian_5_5_sigma_4))\n",
    "\n",
    "save_pgm(\"./images/img_lena_3_3_2.pgm\", img_lena_3_3_2)\n",
    "save_pgm(\"./images/img_lena_3_3_4.pgm\", img_lena_3_3_4)\n",
    "save_pgm(\"./images/img_lena_5_5_2.pgm\", img_lena_5_5_2)\n",
    "save_pgm(\"./images/img_lena_5_5_4.pgm\", img_lena_5_5_4)"
   ]
  },
  {
   "cell_type": "code",
   "execution_count": 17,
   "metadata": {},
   "outputs": [],
   "source": [
    "img_lena_5_5_1 = minMaxNormalizaiton(convolution(img_lena, gaussian_5_5_sigma_1))\n",
    "save_pgm(\"./images/img_lena_5_5_1.pgm\", img_lena_5_5_1)"
   ]
  },
  {
   "cell_type": "code",
   "execution_count": 18,
   "metadata": {},
   "outputs": [],
   "source": [
    "img_coins_3_3_2 = minMaxNormalizaiton(convolution(img_coins, gaussian_3_3_sigma_2))\n",
    "img_coins_3_3_4 = minMaxNormalizaiton(convolution(img_coins, gaussian_3_3_sigma_4))\n",
    "img_coins_5_5_2 = minMaxNormalizaiton(convolution(img_coins, gaussian_5_5_sigma_2))\n",
    "img_coins_5_5_4 = minMaxNormalizaiton(convolution(img_coins, gaussian_5_5_sigma_4))\n",
    "\n",
    "save_pgm(\"./images/img_coins_3_3_2.pgm\", img_coins_3_3_2)\n",
    "save_pgm(\"./images/img_coins_3_3_4.pgm\", img_coins_3_3_4)\n",
    "save_pgm(\"./images/img_coins_5_5_2.pgm\", img_coins_5_5_2)\n",
    "save_pgm(\"./images/img_coins_5_5_4.pgm\", img_coins_5_5_4)"
   ]
  },
  {
   "cell_type": "code",
   "execution_count": 19,
   "metadata": {},
   "outputs": [],
   "source": [
    "img_lena_sobelX = convolution(img_lena, Mx)\n",
    "img_lena_sobelY = convolution(img_lena, My)\n",
    "save_pgm(\"./images/img_lena_sobelX.pgm\", img_lena_sobelX)\n",
    "save_pgm(\"./images/img_lena_sobelY.pgm\", img_lena_sobelY)\n",
    "\n",
    "img_lena_sobelXY = sobelXY(img_lena_sobelX, img_lena_sobelY)\n",
    "save_pgm(\"./images/img_lena_sobelXY.pgm\", img_lena_sobelXY)"
   ]
  },
  {
   "cell_type": "code",
   "execution_count": 22,
   "metadata": {},
   "outputs": [],
   "source": [
    "img_coins_sobelX = convolution(img_coins, Mx)\n",
    "img_coins_sobelY = convolution(img_coins, My)\n",
    "save_pgm(\"./images/img_coins_sobelX.pgm\", img_coins_sobelX)\n",
    "save_pgm(\"./images/img_coins_sobelY.pgm\", img_coins_sobelY)\n",
    "\n",
    "img_coins_sobelXY = sobelXY(img_coins_sobelX, img_coins_sobelY)\n",
    "save_pgm(\"./images/img_coins_sobelXY.pgm\", img_coins_sobelXY)\n"
   ]
  },
  {
   "cell_type": "code",
   "execution_count": 24,
   "metadata": {},
   "outputs": [],
   "source": [
    "img_lena_3_3_2_sobelX = convolution(img_lena_3_3_2, Mx)\n",
    "img_lena_3_3_2_sobelY = convolution(img_lena_3_3_2, My)\n",
    "save_pgm(\"./images/img_lena_3_3_2_sobelX.pgm\", img_lena_3_3_2_sobelX)\n",
    "save_pgm(\"./images/img_lena_3_3_2_sobelY.pgm\", img_lena_3_3_2_sobelY)\n",
    "\n",
    "img_lena_3_3_2_sobelXY = sobelXY(img_lena_3_3_2_sobelX, img_lena_3_3_2_sobelY)\n",
    "save_pgm(\"./images/img_lena_3_3_2_sobelXY.pgm\", img_lena_3_3_2_sobelXY)\n",
    "\n",
    "\n",
    "img_lena_3_3_4_sobelX = convolution(img_lena_3_3_4, Mx)\n",
    "img_lena_3_3_4_sobelY = convolution(img_lena_3_3_4, My)\n",
    "save_pgm(\"./images/img_lena_3_3_4_sobelX.pgm\", img_lena_3_3_4_sobelX)\n",
    "save_pgm(\"./images/img_lena_3_3_4_sobelY.pgm\", img_lena_3_3_4_sobelY)\n",
    "\n",
    "img_lena_3_3_4_sobelXY = sobelXY(img_lena_3_3_4_sobelX, img_lena_3_3_4_sobelY)\n",
    "save_pgm(\"./images/img_lena_3_3_4_sobelXY.pgm\", img_lena_3_3_4_sobelXY)\n",
    "\n",
    "\n",
    "img_lena_5_5_2_sobelX = convolution(img_lena_5_5_2, Mx)\n",
    "img_lena_5_5_2_sobelY = convolution(img_lena_5_5_2, My)\n",
    "save_pgm(\"./images/img_lena_5_5_2_sobelX.pgm\", img_lena_5_5_2_sobelX)\n",
    "save_pgm(\"./images/img_lena_5_5_2_sobelY.pgm\", img_lena_5_5_2_sobelY)\n",
    "\n",
    "img_lena_5_5_2_sobelXY = sobelXY(img_lena_5_5_2_sobelX, img_lena_5_5_2_sobelY)\n",
    "save_pgm(\"./images/img_lena_5_5_2_sobelXY.pgm\", img_lena_5_5_2_sobelXY)\n",
    "\n",
    "\n",
    "img_lena_5_5_4_sobelX = convolution(img_lena_5_5_4, Mx)\n",
    "img_lena_5_5_4_sobelY = convolution(img_lena_5_5_4, My)\n",
    "save_pgm(\"./images/img_lena_5_5_4_sobelX.pgm\", img_lena_5_5_4_sobelX)\n",
    "save_pgm(\"./images/img_lena_5_5_4_sobelY.pgm\", img_lena_5_5_4_sobelY)\n",
    "\n",
    "img_lena_5_5_4_sobelXY = sobelXY(img_lena_5_5_4_sobelX, img_lena_5_5_4_sobelY)\n",
    "save_pgm(\"./images/img_lena_5_5_4_sobelXY.pgm\", img_lena_5_5_4_sobelXY)"
   ]
  },
  {
   "cell_type": "code",
   "execution_count": 31,
   "metadata": {},
   "outputs": [],
   "source": [
    "img_lena_3_3_2_L1 = convolution(img_lena_3_3_2, L1)\n",
    "img_lena_3_3_4_L1 = convolution(img_lena_3_3_4, L1)\n",
    "img_lena_5_5_2_L1 = convolution(img_lena_5_5_2, L1)\n",
    "img_lena_5_5_4_L1 = convolution(img_lena_5_5_4, L1)\n",
    "\n",
    "save_pgm(\"./images/img_lena_3_3_2_L1.pgm\", img_lena_3_3_2_L1)\n",
    "save_pgm(\"./images/img_lena_3_3_4_L1.pgm\", img_lena_3_3_4_L1)\n",
    "save_pgm(\"./images/img_lena_5_5_2_L1.pgm\", img_lena_5_5_2_L1)\n",
    "save_pgm(\"./images/img_lena_5_5_4_L1.pgm\", img_lena_5_5_4_L1)\n",
    "\n",
    "img_lena_3_3_2_L2 = convolution(img_lena_3_3_2, L2)\n",
    "img_lena_3_3_4_L2 = convolution(img_lena_3_3_4, L2)\n",
    "img_lena_5_5_2_L2 = convolution(img_lena_5_5_2, L2)\n",
    "img_lena_5_5_4_L2 = convolution(img_lena_5_5_4, L2)\n",
    "\n",
    "save_pgm(\"./images/img_lena_3_3_2_L2.pgm\", img_lena_3_3_2_L2)\n",
    "save_pgm(\"./images/img_lena_3_3_4_L2.pgm\", img_lena_3_3_4_L2)\n",
    "save_pgm(\"./images/img_lena_5_5_2_L2.pgm\", img_lena_5_5_2_L2)\n",
    "save_pgm(\"./images/img_lena_5_5_4_L2.pgm\", img_lena_5_5_4_L2)"
   ]
  },
  {
   "cell_type": "code",
   "execution_count": 32,
   "metadata": {},
   "outputs": [],
   "source": [
    "img_coins_3_3_2_sobelX = convolution(img_coins_3_3_2, Mx)\n",
    "img_coins_3_3_2_sobelY = convolution(img_coins_3_3_2, My)\n",
    "save_pgm(\"./images/img_coins_3_3_2_sobelX.pgm\", img_coins_3_3_2_sobelX)\n",
    "save_pgm(\"./images/img_coins_3_3_2_sobelY.pgm\", img_coins_3_3_2_sobelY)\n",
    "\n",
    "img_coins_3_3_2_sobelXY = sobelXY(img_coins_3_3_2_sobelX, img_coins_3_3_2_sobelY)\n",
    "save_pgm(\"./images/img_coins_3_3_2_sobelXY.pgm\", img_coins_3_3_2_sobelXY)\n",
    "\n",
    "\n",
    "img_coins_3_3_4_sobelX = convolution(img_coins_3_3_4, Mx)\n",
    "img_coins_3_3_4_sobelY = convolution(img_coins_3_3_4, My)\n",
    "save_pgm(\"./images/img_coins_3_3_4_sobelX.pgm\", img_coins_3_3_4_sobelX)\n",
    "save_pgm(\"./images/img_coins_3_3_4_sobelY.pgm\", img_coins_3_3_4_sobelY)\n",
    "\n",
    "img_coins_3_3_4_sobelXY = sobelXY(img_coins_3_3_4_sobelX, img_coins_3_3_4_sobelY)\n",
    "save_pgm(\"./images/img_coins_3_3_4_sobelXY.pgm\", img_coins_3_3_4_sobelXY)\n",
    "\n",
    "\n",
    "img_coins_5_5_2_sobelX = convolution(img_coins_5_5_2, Mx)\n",
    "img_coins_5_5_2_sobelY = convolution(img_coins_5_5_2, My)\n",
    "save_pgm(\"./images/img_coins_5_5_2_sobelX.pgm\", img_coins_5_5_2_sobelX)\n",
    "save_pgm(\"./images/img_coins_5_5_2_sobelY.pgm\", img_coins_5_5_2_sobelY)\n",
    "\n",
    "img_coins_5_5_2_sobelXY = sobelXY(img_coins_5_5_2_sobelX, img_coins_5_5_2_sobelY)\n",
    "save_pgm(\"./images/img_coins_5_5_2_sobelXY.pgm\", img_coins_5_5_2_sobelXY)\n",
    "\n",
    "\n",
    "img_coins_5_5_4_sobelX = convolution(img_coins_5_5_4, Mx)\n",
    "img_coins_5_5_4_sobelY = convolution(img_coins_5_5_4, My)\n",
    "save_pgm(\"./images/img_coins_5_5_4_sobelX.pgm\", img_coins_5_5_4_sobelX)\n",
    "save_pgm(\"./images/img_coins_5_5_4_sobelY.pgm\", img_coins_5_5_4_sobelY)\n",
    "\n",
    "img_coins_5_5_4_sobelXY = sobelXY(img_coins_5_5_4_sobelX, img_coins_5_5_4_sobelY)\n",
    "save_pgm(\"./images/img_coins_5_5_4_sobelXY.pgm\", img_coins_5_5_4_sobelXY)"
   ]
  },
  {
   "cell_type": "code",
   "execution_count": 33,
   "metadata": {},
   "outputs": [],
   "source": [
    "img_coins_3_3_2_L1 = convolution(img_coins_3_3_2, L1)\n",
    "img_coins_3_3_4_L1 = convolution(img_coins_3_3_4, L1)\n",
    "img_coins_5_5_2_L1 = convolution(img_coins_5_5_2, L1)\n",
    "img_coins_5_5_4_L1 = convolution(img_coins_5_5_4, L1)\n",
    "\n",
    "save_pgm(\"./images/img_coins_3_3_2_L1.pgm\", img_coins_3_3_2_L1)\n",
    "save_pgm(\"./images/img_coins_3_3_4_L1.pgm\", img_coins_3_3_4_L1)\n",
    "save_pgm(\"./images/img_coins_5_5_2_L1.pgm\", img_coins_5_5_2_L1)\n",
    "save_pgm(\"./images/img_coins_5_5_4_L1.pgm\", img_coins_5_5_4_L1)\n",
    "\n",
    "img_coins_3_3_2_L2 = convolution(img_coins_3_3_2, L2)\n",
    "img_coins_3_3_4_L2 = convolution(img_coins_3_3_4, L2)\n",
    "img_coins_5_5_2_L2 = convolution(img_coins_5_5_2, L2)\n",
    "img_coins_5_5_4_L2 = convolution(img_coins_5_5_4, L2)\n",
    "\n",
    "save_pgm(\"./images/img_coins_3_3_2_L2.pgm\", img_coins_3_3_2_L2)\n",
    "save_pgm(\"./images/img_coins_3_3_4_L2.pgm\", img_coins_3_3_4_L2)\n",
    "save_pgm(\"./images/img_coins_5_5_2_L2.pgm\", img_coins_5_5_2_L2)\n",
    "save_pgm(\"./images/img_coins_5_5_4_L2.pgm\", img_coins_5_5_4_L2)"
   ]
  }
 ],
 "metadata": {
  "kernelspec": {
   "display_name": "Python 3",
   "language": "python",
   "name": "python3"
  },
  "language_info": {
   "codemirror_mode": {
    "name": "ipython",
    "version": 3
   },
   "file_extension": ".py",
   "mimetype": "text/x-python",
   "name": "python",
   "nbconvert_exporter": "python",
   "pygments_lexer": "ipython3",
   "version": "3.8.9"
  },
  "orig_nbformat": 4
 },
 "nbformat": 4,
 "nbformat_minor": 2
}
